{
 "cells": [
  {
   "cell_type": "markdown",
   "metadata": {},
   "source": [
    "# A/B testing of website landing pages \n",
    "\n",
    "## with awswrangler, Python SDK and AWS S3, Glue & Athena services¶"
   ]
  },
  {
   "cell_type": "markdown",
   "metadata": {},
   "source": [
    "## System setup & data ingestion with AWS cloud"
   ]
  },
  {
   "cell_type": "markdown",
   "metadata": {},
   "source": [
    "### AWS S3 Data Lake setup"
   ]
  },
  {
   "cell_type": "code",
   "execution_count": 2,
   "metadata": {},
   "outputs": [],
   "source": [
    "bucketname = 'ab-testing-landing-page'"
   ]
  },
  {
   "cell_type": "code",
   "execution_count": 3,
   "metadata": {},
   "outputs": [
    {
     "data": {
      "text/plain": [
       "{'ResponseMetadata': {'RequestId': 'TA8QZFFXT92MSZK5',\n",
       "  'HostId': 'zVYwUq9zy7LnQz1ZesJBQgaV48gDhl8GaKYQr4+kaz/Bl3IG7NzLlbgBq3T4dtpBYx4qmGbl+jU=',\n",
       "  'HTTPStatusCode': 200,\n",
       "  'HTTPHeaders': {'x-amz-id-2': 'zVYwUq9zy7LnQz1ZesJBQgaV48gDhl8GaKYQr4+kaz/Bl3IG7NzLlbgBq3T4dtpBYx4qmGbl+jU=',\n",
       "   'x-amz-request-id': 'TA8QZFFXT92MSZK5',\n",
       "   'date': 'Wed, 03 Nov 2021 08:06:24 GMT',\n",
       "   'location': '/ab-testing-landing-page',\n",
       "   'server': 'AmazonS3',\n",
       "   'content-length': '0'},\n",
       "  'RetryAttempts': 0},\n",
       " 'Location': '/ab-testing-landing-page'}"
      ]
     },
     "execution_count": 3,
     "metadata": {},
     "output_type": "execute_result"
    }
   ],
   "source": [
    "import boto3\n",
    "import pandas as pd\n",
    "\n",
    "s3 = boto3.client('s3')\n",
    "s3.create_bucket(Bucket=bucketname)"
   ]
  },
  {
   "cell_type": "code",
   "execution_count": 4,
   "metadata": {},
   "outputs": [
    {
     "data": {
      "text/plain": [
       "{'ResponseMetadata': {'RequestId': 'TA8YV4630YYPFYJ3',\n",
       "  'HostId': 'VSvrMQLd1AYX+QRexfJFt6MRU4f0UwCj0J+JMApYjwmlk0w2y/qDTOdk836njtdJjFI/qSdcECI=',\n",
       "  'HTTPStatusCode': 200,\n",
       "  'HTTPHeaders': {'x-amz-id-2': 'VSvrMQLd1AYX+QRexfJFt6MRU4f0UwCj0J+JMApYjwmlk0w2y/qDTOdk836njtdJjFI/qSdcECI=',\n",
       "   'x-amz-request-id': 'TA8YV4630YYPFYJ3',\n",
       "   'date': 'Wed, 03 Nov 2021 08:06:24 GMT',\n",
       "   'content-type': 'application/xml',\n",
       "   'transfer-encoding': 'chunked',\n",
       "   'server': 'AmazonS3'},\n",
       "  'RetryAttempts': 0},\n",
       " 'Buckets': [{'Name': 'ab-testing-landing-page',\n",
       "   'CreationDate': datetime.datetime(2021, 11, 1, 12, 7, 17, tzinfo=tzutc())},\n",
       "  {'Name': 'aws-athena-query-results-985046275345-us-east-1',\n",
       "   'CreationDate': datetime.datetime(2021, 10, 28, 13, 28, 34, tzinfo=tzutc())},\n",
       "  {'Name': 'awswrangler-cars',\n",
       "   'CreationDate': datetime.datetime(2021, 10, 28, 11, 52, 54, tzinfo=tzutc())},\n",
       "  {'Name': 'cf-templates-1i4g25d5y456l-us-east-1',\n",
       "   'CreationDate': datetime.datetime(2021, 10, 26, 13, 40, 44, tzinfo=tzutc())},\n",
       "  {'Name': 'destination-bucket-acg',\n",
       "   'CreationDate': datetime.datetime(2021, 10, 26, 14, 55, 13, tzinfo=tzutc())},\n",
       "  {'Name': 'output-tranformed-user-data',\n",
       "   'CreationDate': datetime.datetime(2021, 10, 26, 16, 14, tzinfo=tzutc())}],\n",
       " 'Owner': {'DisplayName': 'silverdawn456',\n",
       "  'ID': '152ea4745473e1dded0ad1c39c5057aa533a7ea9b4c2dfcfb43b38c69ac4f945'}}"
      ]
     },
     "execution_count": 4,
     "metadata": {},
     "output_type": "execute_result"
    }
   ],
   "source": [
    "s3.list_buckets()"
   ]
  },
  {
   "cell_type": "markdown",
   "metadata": {},
   "source": [
    "list our buckets and check our new bucket is there"
   ]
  },
  {
   "cell_type": "code",
   "execution_count": 5,
   "metadata": {},
   "outputs": [
    {
     "data": {
      "text/plain": [
       "['ab-testing-landing-page',\n",
       " 'aws-athena-query-results-985046275345-us-east-1',\n",
       " 'awswrangler-cars',\n",
       " 'cf-templates-1i4g25d5y456l-us-east-1',\n",
       " 'destination-bucket-acg',\n",
       " 'output-tranformed-user-data']"
      ]
     },
     "execution_count": 5,
     "metadata": {},
     "output_type": "execute_result"
    }
   ],
   "source": [
    "[bucket['Name'] for bucket in s3.list_buckets()['Buckets']]"
   ]
  },
  {
   "cell_type": "code",
   "execution_count": 6,
   "metadata": {},
   "outputs": [],
   "source": [
    "filename = 'ab_data.csv'\n",
    "\n",
    "s3.upload_file(filename, bucketname, filename)"
   ]
  },
  {
   "cell_type": "markdown",
   "metadata": {},
   "source": [
    "We assume that in the future our data originates from the website application directly and is Kinesis streamed and saved with the service Kinesis Data Firehosed as partitioned data into the data lake S3.\n",
    "\n",
    "Now for this demo we have just the csv file, therefore we emulate the same by uploading this data via Pandas as date partitioned Parquet dataset into S3.\n"
   ]
  },
  {
   "cell_type": "code",
   "execution_count": 7,
   "metadata": {},
   "outputs": [
    {
     "data": {
      "text/plain": [
       "294478"
      ]
     },
     "execution_count": 7,
     "metadata": {},
     "output_type": "execute_result"
    }
   ],
   "source": [
    "# prepare the data to be able to create meaningful partitions in S3\n",
    "\n",
    "df=pd.read_csv('ab_data.csv')\n",
    "\n",
    "df.sample(3)\n",
    "len(df)"
   ]
  },
  {
   "cell_type": "markdown",
   "metadata": {},
   "source": [
    "Furthermore we expect to see scale up amounts of ab test data and prepare various columns that allow a range of time windows. Primary query parameter will be likely dates and date ranges so the date column will be included as well."
   ]
  },
  {
   "cell_type": "code",
   "execution_count": 8,
   "metadata": {},
   "outputs": [],
   "source": [
    "df.timestamp = pd.to_datetime(df.timestamp) # convert object type to datetime"
   ]
  },
  {
   "cell_type": "code",
   "execution_count": 9,
   "metadata": {},
   "outputs": [
    {
     "data": {
      "text/html": [
       "<div>\n",
       "<style scoped>\n",
       "    .dataframe tbody tr th:only-of-type {\n",
       "        vertical-align: middle;\n",
       "    }\n",
       "\n",
       "    .dataframe tbody tr th {\n",
       "        vertical-align: top;\n",
       "    }\n",
       "\n",
       "    .dataframe thead th {\n",
       "        text-align: right;\n",
       "    }\n",
       "</style>\n",
       "<table border=\"1\" class=\"dataframe\">\n",
       "  <thead>\n",
       "    <tr style=\"text-align: right;\">\n",
       "      <th></th>\n",
       "      <th>user_id</th>\n",
       "      <th>timestamp</th>\n",
       "      <th>grp</th>\n",
       "      <th>landing_page</th>\n",
       "      <th>converted</th>\n",
       "      <th>week</th>\n",
       "      <th>year</th>\n",
       "    </tr>\n",
       "  </thead>\n",
       "  <tbody>\n",
       "    <tr>\n",
       "      <th>43005</th>\n",
       "      <td>763099</td>\n",
       "      <td>2017-01-10 19:18:13.842170</td>\n",
       "      <td>control</td>\n",
       "      <td>old_page</td>\n",
       "      <td>0</td>\n",
       "      <td>2</td>\n",
       "      <td>2017</td>\n",
       "    </tr>\n",
       "    <tr>\n",
       "      <th>232745</th>\n",
       "      <td>889330</td>\n",
       "      <td>2017-01-17 08:57:12.863737</td>\n",
       "      <td>control</td>\n",
       "      <td>old_page</td>\n",
       "      <td>0</td>\n",
       "      <td>3</td>\n",
       "      <td>2017</td>\n",
       "    </tr>\n",
       "    <tr>\n",
       "      <th>80801</th>\n",
       "      <td>839423</td>\n",
       "      <td>2017-01-04 22:23:42.503421</td>\n",
       "      <td>control</td>\n",
       "      <td>old_page</td>\n",
       "      <td>1</td>\n",
       "      <td>1</td>\n",
       "      <td>2017</td>\n",
       "    </tr>\n",
       "  </tbody>\n",
       "</table>\n",
       "</div>"
      ],
      "text/plain": [
       "        user_id                  timestamp      grp landing_page  converted  \\\n",
       "43005    763099 2017-01-10 19:18:13.842170  control     old_page          0   \n",
       "232745   889330 2017-01-17 08:57:12.863737  control     old_page          0   \n",
       "80801    839423 2017-01-04 22:23:42.503421  control     old_page          1   \n",
       "\n",
       "        week  year  \n",
       "43005      2  2017  \n",
       "232745     3  2017  \n",
       "80801      1  2017  "
      ]
     },
     "execution_count": 9,
     "metadata": {},
     "output_type": "execute_result"
    }
   ],
   "source": [
    "df['week'] = df['timestamp'].dt.isocalendar().week\n",
    "#df['month'] = df['timestamp'].dt.month\n",
    "df['year'] = df['timestamp'].dt.year\n",
    "#df['date'] = df['timestamp'].dt.date\n",
    "#df['month_year'] = df['timestamp'].dt.strftime('%Y-%m')\n",
    "\n",
    "partition_cols=['year', 'week']\n",
    "\n",
    "df.rename(columns = {'group':'grp'}, inplace = True) # rename for athena reserved strings compatibility\n",
    "df.sample(3)"
   ]
  },
  {
   "cell_type": "markdown",
   "metadata": {},
   "source": [
    "save pandas dataframe as date partitioned parquet dataset in the new S3 bucket"
   ]
  },
  {
   "cell_type": "code",
   "execution_count": 11,
   "metadata": {},
   "outputs": [
    {
     "name": "stdout",
     "output_type": "stream",
     "text": [
      "Wall time: 15.9 s\n"
     ]
    },
    {
     "data": {
      "text/plain": [
       "{'paths': ['s3://ab-testing-landing-page/ab_data/year=2017/week=1/ac21aa2a19de4d518cf8b1a501bc8a87.snappy.parquet',\n",
       "  's3://ab-testing-landing-page/ab_data/year=2017/week=2/ac21aa2a19de4d518cf8b1a501bc8a87.snappy.parquet',\n",
       "  's3://ab-testing-landing-page/ab_data/year=2017/week=3/ac21aa2a19de4d518cf8b1a501bc8a87.snappy.parquet',\n",
       "  's3://ab-testing-landing-page/ab_data/year=2017/week=4/ac21aa2a19de4d518cf8b1a501bc8a87.snappy.parquet'],\n",
       " 'partitions_values': {'s3://ab-testing-landing-page/ab_data/year=2017/week=1/': ['2017',\n",
       "   '1'],\n",
       "  's3://ab-testing-landing-page/ab_data/year=2017/week=2/': ['2017', '2'],\n",
       "  's3://ab-testing-landing-page/ab_data/year=2017/week=3/': ['2017', '3'],\n",
       "  's3://ab-testing-landing-page/ab_data/year=2017/week=4/': ['2017', '4']}}"
      ]
     },
     "execution_count": 11,
     "metadata": {},
     "output_type": "execute_result"
    }
   ],
   "source": [
    "%%time\n",
    "\n",
    "from datetime import date\n",
    "import awswrangler as wr\n",
    "import pandas as pd\n",
    "import numpy as np\n",
    "\n",
    "path = f\"s3://{bucketname}/ab_data/\"\n",
    "\n",
    "wr.s3.to_parquet(\n",
    "    df=df,\n",
    "    path=path,\n",
    "    dataset=True, # dataset mode required for partitioning the data\n",
    "    mode='overwrite_partitions',\n",
    "    #use_threads=True,\n",
    "    partition_cols=partition_cols, # partitioning the data by time related cols\n",
    "    #database='ab_testing',  # Athena/Glue database\n",
    "    #table='app01_test01',  # Athena/Glue table\n",
    "    s3_additional_kwargs={\n",
    "        'ServerSideEncryption': 'aws:kms',\n",
    "        'SSEKMSKeyId': 'b946ba2f-1a2a-4d66-9d85-83ada3523e33'\n",
    "    }\n",
    ")"
   ]
  },
  {
   "cell_type": "code",
   "execution_count": 12,
   "metadata": {},
   "outputs": [],
   "source": [
    "df = wr.s3.read_parquet(path, dataset=True) # important to read as dataset"
   ]
  },
  {
   "cell_type": "code",
   "execution_count": 13,
   "metadata": {},
   "outputs": [
    {
     "name": "stdout",
     "output_type": "stream",
     "text": [
      "<class 'pandas.core.frame.DataFrame'>\n",
      "RangeIndex: 294478 entries, 0 to 294477\n",
      "Data columns (total 7 columns):\n",
      " #   Column        Non-Null Count   Dtype         \n",
      "---  ------        --------------   -----         \n",
      " 0   user_id       294478 non-null  Int64         \n",
      " 1   timestamp     294478 non-null  datetime64[ns]\n",
      " 2   grp           294478 non-null  string        \n",
      " 3   landing_page  294478 non-null  string        \n",
      " 4   converted     294478 non-null  Int64         \n",
      " 5   year          294478 non-null  category      \n",
      " 6   week          294478 non-null  category      \n",
      "dtypes: Int64(2), category(2), datetime64[ns](1), string(2)\n",
      "memory usage: 12.4 MB\n"
     ]
    }
   ],
   "source": [
    "df.info()"
   ]
  },
  {
   "cell_type": "code",
   "execution_count": 14,
   "metadata": {},
   "outputs": [],
   "source": [
    "#df.date = pd.to_datetime(df.date).dt.date # set datetime data type for the column date\n",
    "#df.date = pd.to_datetime(df.date) # set datetime data type for the column date\n",
    "\n",
    "df.year = df.year.astype(int)\n",
    "df.week = df.week.astype(int)"
   ]
  },
  {
   "cell_type": "code",
   "execution_count": 15,
   "metadata": {},
   "outputs": [],
   "source": [
    "#df.query('20170101 < date < 20170105')"
   ]
  },
  {
   "cell_type": "code",
   "execution_count": 16,
   "metadata": {},
   "outputs": [],
   "source": [
    "#df[(df['date'] > '2017-01-01') & (df['date'] < '2017-01-08')]"
   ]
  },
  {
   "cell_type": "code",
   "execution_count": 17,
   "metadata": {},
   "outputs": [],
   "source": [
    "#df[df.user_id==679687]\n"
   ]
  },
  {
   "cell_type": "markdown",
   "metadata": {},
   "source": [
    "### AWS Glue Crawling"
   ]
  },
  {
   "cell_type": "markdown",
   "metadata": {},
   "source": [
    "prepare metadata in Glue Data catalog"
   ]
  },
  {
   "cell_type": "code",
   "execution_count": 18,
   "metadata": {},
   "outputs": [
    {
     "name": "stdout",
     "output_type": "stream",
     "text": [
      "Database ab_test already exists\n"
     ]
    }
   ],
   "source": [
    "dbname = 'ab_test'\n",
    "\n",
    "if dbname not in wr.catalog.databases().values: \n",
    "    wr.catalog.create_database(dbname) \n",
    "    print(wr.catalog.databases()) \n",
    "else: \n",
    "    print(\"Database \" + dbname + \" already exists\") "
   ]
  },
  {
   "cell_type": "code",
   "execution_count": 19,
   "metadata": {},
   "outputs": [
    {
     "name": "stdout",
     "output_type": "stream",
     "text": [
      "{'user_id': 'bigint', 'timestamp': 'timestamp', 'grp': 'string', 'landing_page': 'string', 'converted': 'bigint'}\n",
      "{'year': 'int', 'week': 'int'}\n"
     ]
    }
   ],
   "source": [
    "column_types, partition_types = wr.catalog.extract_athena_types( \n",
    "  df=df, \n",
    "  index=False, \n",
    "  partition_cols=partition_cols\n",
    ") \n",
    "\n",
    "print(column_types)\n",
    "print(partition_types)"
   ]
  },
  {
   "cell_type": "code",
   "execution_count": 20,
   "metadata": {},
   "outputs": [
    {
     "name": "stdout",
     "output_type": "stream",
     "text": [
      "Table app01_test01 already exists\n"
     ]
    }
   ],
   "source": [
    "tablename = \"app01_test01\"\n",
    "\n",
    "if not wr.catalog.does_table_exist(database=dbname, table=tablename):\n",
    "    wr.catalog.create_parquet_table( \n",
    "       table = tablename, \n",
    "       database = dbname, \n",
    "       path = path, \n",
    "       columns_types = column_types,\n",
    "       partitions_types = partition_types,\n",
    "       compression='snappy'\n",
    "    )\n",
    "else:\n",
    "    print(\"Table \" + tablename + \" already exists\") "
   ]
  },
  {
   "cell_type": "code",
   "execution_count": 21,
   "metadata": {},
   "outputs": [
    {
     "name": "stdout",
     "output_type": "stream",
     "text": [
      "Wall time: 5.71 s\n"
     ]
    }
   ],
   "source": [
    "%%time\n",
    "\n",
    "\"\"\"# important update!\n",
    "res = wr.s3.store_parquet_metadata(\n",
    "    path=path,\n",
    "    database=dbname,\n",
    "    table=tablename,\n",
    "    dataset=True,\n",
    "    mode=\"overwrite\",\n",
    "    dtype={\"week\": \"int\", \"year\": \"int\"}\n",
    ")\"\"\""
   ]
  },
  {
   "cell_type": "code",
   "execution_count": 22,
   "metadata": {},
   "outputs": [
    {
     "data": {
      "text/html": [
       "<div>\n",
       "<style scoped>\n",
       "    .dataframe tbody tr th:only-of-type {\n",
       "        vertical-align: middle;\n",
       "    }\n",
       "\n",
       "    .dataframe tbody tr th {\n",
       "        vertical-align: top;\n",
       "    }\n",
       "\n",
       "    .dataframe thead th {\n",
       "        text-align: right;\n",
       "    }\n",
       "</style>\n",
       "<table border=\"1\" class=\"dataframe\">\n",
       "  <thead>\n",
       "    <tr style=\"text-align: right;\">\n",
       "      <th></th>\n",
       "      <th>Column Name</th>\n",
       "      <th>Type</th>\n",
       "      <th>Partition</th>\n",
       "      <th>Comment</th>\n",
       "    </tr>\n",
       "  </thead>\n",
       "  <tbody>\n",
       "    <tr>\n",
       "      <th>0</th>\n",
       "      <td>user_id</td>\n",
       "      <td>bigint</td>\n",
       "      <td>False</td>\n",
       "      <td></td>\n",
       "    </tr>\n",
       "    <tr>\n",
       "      <th>1</th>\n",
       "      <td>timestamp</td>\n",
       "      <td>timestamp</td>\n",
       "      <td>False</td>\n",
       "      <td></td>\n",
       "    </tr>\n",
       "    <tr>\n",
       "      <th>2</th>\n",
       "      <td>grp</td>\n",
       "      <td>string</td>\n",
       "      <td>False</td>\n",
       "      <td></td>\n",
       "    </tr>\n",
       "    <tr>\n",
       "      <th>3</th>\n",
       "      <td>landing_page</td>\n",
       "      <td>string</td>\n",
       "      <td>False</td>\n",
       "      <td></td>\n",
       "    </tr>\n",
       "    <tr>\n",
       "      <th>4</th>\n",
       "      <td>converted</td>\n",
       "      <td>bigint</td>\n",
       "      <td>False</td>\n",
       "      <td></td>\n",
       "    </tr>\n",
       "    <tr>\n",
       "      <th>5</th>\n",
       "      <td>year</td>\n",
       "      <td>int</td>\n",
       "      <td>True</td>\n",
       "      <td></td>\n",
       "    </tr>\n",
       "    <tr>\n",
       "      <th>6</th>\n",
       "      <td>week</td>\n",
       "      <td>int</td>\n",
       "      <td>True</td>\n",
       "      <td></td>\n",
       "    </tr>\n",
       "  </tbody>\n",
       "</table>\n",
       "</div>"
      ],
      "text/plain": [
       "    Column Name       Type  Partition Comment\n",
       "0       user_id     bigint      False        \n",
       "1     timestamp  timestamp      False        \n",
       "2           grp     string      False        \n",
       "3  landing_page     string      False        \n",
       "4     converted     bigint      False        \n",
       "5          year        int       True        \n",
       "6          week        int       True        "
      ]
     },
     "execution_count": 22,
     "metadata": {},
     "output_type": "execute_result"
    }
   ],
   "source": [
    "wr.catalog.table(database=dbname, table=tablename) "
   ]
  },
  {
   "cell_type": "markdown",
   "metadata": {},
   "source": [
    "force athena to update table partitions with an ALTER TABLE ... ADD PARTITION query, in order for later queries to work"
   ]
  },
  {
   "cell_type": "code",
   "execution_count": 23,
   "metadata": {},
   "outputs": [],
   "source": [
    "\"\"\"import boto3\n",
    "glue_client = boto3.client('glue')\n",
    "\n",
    "response = glue_client.get_partitions(\n",
    " DatabaseName=dbname,\n",
    " TableName=tablename\n",
    ")\n",
    "partition_list = response['Partitions']\"\"\""
   ]
  },
  {
   "cell_type": "code",
   "execution_count": 24,
   "metadata": {},
   "outputs": [
    {
     "data": {
      "text/plain": [
       "[{'Values': ['2017', '2'],\n",
       "  'DatabaseName': 'ab_test',\n",
       "  'TableName': 'app01_test01',\n",
       "  'CreationTime': datetime.datetime(2021, 11, 3, 9, 7, 4, tzinfo=tzlocal()),\n",
       "  'StorageDescriptor': {'Columns': [{'Name': 'user_id', 'Type': 'bigint'},\n",
       "    {'Name': 'timestamp', 'Type': 'timestamp'},\n",
       "    {'Name': 'grp', 'Type': 'string'},\n",
       "    {'Name': 'landing_page', 'Type': 'string'},\n",
       "    {'Name': 'converted', 'Type': 'bigint'}],\n",
       "   'Location': 's3://ab-testing-landing-page/ab_data/year=2017/week=2/',\n",
       "   'InputFormat': 'org.apache.hadoop.hive.ql.io.parquet.MapredParquetInputFormat',\n",
       "   'OutputFormat': 'org.apache.hadoop.hive.ql.io.parquet.MapredParquetOutputFormat',\n",
       "   'Compressed': False,\n",
       "   'NumberOfBuckets': -1,\n",
       "   'SerdeInfo': {'SerializationLibrary': 'org.apache.hadoop.hive.ql.io.parquet.serde.ParquetHiveSerDe',\n",
       "    'Parameters': {'serialization.format': '1'}},\n",
       "   'BucketColumns': [],\n",
       "   'SortColumns': [],\n",
       "   'StoredAsSubDirectories': False},\n",
       "  'CatalogId': '985046275345'},\n",
       " {'Values': ['2017', '3'],\n",
       "  'DatabaseName': 'ab_test',\n",
       "  'TableName': 'app01_test01',\n",
       "  'CreationTime': datetime.datetime(2021, 11, 3, 9, 7, 4, tzinfo=tzlocal()),\n",
       "  'StorageDescriptor': {'Columns': [{'Name': 'user_id', 'Type': 'bigint'},\n",
       "    {'Name': 'timestamp', 'Type': 'timestamp'},\n",
       "    {'Name': 'grp', 'Type': 'string'},\n",
       "    {'Name': 'landing_page', 'Type': 'string'},\n",
       "    {'Name': 'converted', 'Type': 'bigint'}],\n",
       "   'Location': 's3://ab-testing-landing-page/ab_data/year=2017/week=3/',\n",
       "   'InputFormat': 'org.apache.hadoop.hive.ql.io.parquet.MapredParquetInputFormat',\n",
       "   'OutputFormat': 'org.apache.hadoop.hive.ql.io.parquet.MapredParquetOutputFormat',\n",
       "   'Compressed': False,\n",
       "   'NumberOfBuckets': -1,\n",
       "   'SerdeInfo': {'SerializationLibrary': 'org.apache.hadoop.hive.ql.io.parquet.serde.ParquetHiveSerDe',\n",
       "    'Parameters': {'serialization.format': '1'}},\n",
       "   'BucketColumns': [],\n",
       "   'SortColumns': [],\n",
       "   'StoredAsSubDirectories': False},\n",
       "  'CatalogId': '985046275345'},\n",
       " {'Values': ['2017', '1'],\n",
       "  'DatabaseName': 'ab_test',\n",
       "  'TableName': 'app01_test01',\n",
       "  'CreationTime': datetime.datetime(2021, 11, 3, 9, 7, 4, tzinfo=tzlocal()),\n",
       "  'StorageDescriptor': {'Columns': [{'Name': 'user_id', 'Type': 'bigint'},\n",
       "    {'Name': 'timestamp', 'Type': 'timestamp'},\n",
       "    {'Name': 'grp', 'Type': 'string'},\n",
       "    {'Name': 'landing_page', 'Type': 'string'},\n",
       "    {'Name': 'converted', 'Type': 'bigint'}],\n",
       "   'Location': 's3://ab-testing-landing-page/ab_data/year=2017/week=1/',\n",
       "   'InputFormat': 'org.apache.hadoop.hive.ql.io.parquet.MapredParquetInputFormat',\n",
       "   'OutputFormat': 'org.apache.hadoop.hive.ql.io.parquet.MapredParquetOutputFormat',\n",
       "   'Compressed': False,\n",
       "   'NumberOfBuckets': -1,\n",
       "   'SerdeInfo': {'SerializationLibrary': 'org.apache.hadoop.hive.ql.io.parquet.serde.ParquetHiveSerDe',\n",
       "    'Parameters': {'serialization.format': '1'}},\n",
       "   'BucketColumns': [],\n",
       "   'SortColumns': [],\n",
       "   'StoredAsSubDirectories': False},\n",
       "  'CatalogId': '985046275345'},\n",
       " {'Values': ['2017', '4'],\n",
       "  'DatabaseName': 'ab_test',\n",
       "  'TableName': 'app01_test01',\n",
       "  'CreationTime': datetime.datetime(2021, 11, 3, 9, 7, 4, tzinfo=tzlocal()),\n",
       "  'StorageDescriptor': {'Columns': [{'Name': 'user_id', 'Type': 'bigint'},\n",
       "    {'Name': 'timestamp', 'Type': 'timestamp'},\n",
       "    {'Name': 'grp', 'Type': 'string'},\n",
       "    {'Name': 'landing_page', 'Type': 'string'},\n",
       "    {'Name': 'converted', 'Type': 'bigint'}],\n",
       "   'Location': 's3://ab-testing-landing-page/ab_data/year=2017/week=4/',\n",
       "   'InputFormat': 'org.apache.hadoop.hive.ql.io.parquet.MapredParquetInputFormat',\n",
       "   'OutputFormat': 'org.apache.hadoop.hive.ql.io.parquet.MapredParquetOutputFormat',\n",
       "   'Compressed': False,\n",
       "   'NumberOfBuckets': -1,\n",
       "   'SerdeInfo': {'SerializationLibrary': 'org.apache.hadoop.hive.ql.io.parquet.serde.ParquetHiveSerDe',\n",
       "    'Parameters': {'serialization.format': '1'}},\n",
       "   'BucketColumns': [],\n",
       "   'SortColumns': [],\n",
       "   'StoredAsSubDirectories': False},\n",
       "  'CatalogId': '985046275345'}]"
      ]
     },
     "execution_count": 24,
     "metadata": {},
     "output_type": "execute_result"
    }
   ],
   "source": [
    "partition_list"
   ]
  },
  {
   "cell_type": "code",
   "execution_count": 25,
   "metadata": {},
   "outputs": [
    {
     "data": {
      "text/plain": [
       "'4'"
      ]
     },
     "execution_count": 25,
     "metadata": {},
     "output_type": "execute_result"
    }
   ],
   "source": [
    "partition_list[3]['Values'][1]"
   ]
  },
  {
   "cell_type": "code",
   "execution_count": 26,
   "metadata": {},
   "outputs": [
    {
     "data": {
      "text/plain": [
       "'s3://ab-testing-landing-page/ab_data/year=2017/week=3/'"
      ]
     },
     "execution_count": 26,
     "metadata": {},
     "output_type": "execute_result"
    }
   ],
   "source": [
    "partition_list[1]['StorageDescriptor']['Location']"
   ]
  },
  {
   "cell_type": "code",
   "execution_count": 27,
   "metadata": {},
   "outputs": [
    {
     "name": "stdout",
     "output_type": "stream",
     "text": [
      "ALTER TABLE app01_test01 ADD IF NOT EXISTS\n",
      " PARTITION (year='2017', week='2') LOCATION 's3://ab-testing-landing-page/ab_data/year=2017/week=2/'\n",
      " PARTITION (year='2017', week='3') LOCATION 's3://ab-testing-landing-page/ab_data/year=2017/week=3/'\n",
      " PARTITION (year='2017', week='1') LOCATION 's3://ab-testing-landing-page/ab_data/year=2017/week=1/'\n",
      " PARTITION (year='2017', week='4') LOCATION 's3://ab-testing-landing-page/ab_data/year=2017/week=4/'\n"
     ]
    }
   ],
   "source": [
    "sql_string = \"ALTER TABLE \" + tablename + \" ADD IF NOT EXISTS\"\n",
    "j = len(partition_list)\n",
    "for i in range(0,j):\n",
    "    sql_string = sql_string + \"\\n PARTITION (year='\" + partition_list[i]['Values'][0] +\"', week='\" + partition_list[i]['Values'][1] +\"') LOCATION '\" + partition_list[i]['StorageDescriptor']['Location'] + \"'\"\n",
    "    \n",
    "print(sql_string)"
   ]
  },
  {
   "cell_type": "code",
   "execution_count": 28,
   "metadata": {},
   "outputs": [],
   "source": [
    "# make sure that the partitions are read into athena\n",
    "#sql1 = 'MSCK REPAIR TABLE' + tablename\n",
    "#sql1 = \"ALTER TABLE \" + tablename + \" ADD IF NOT EXISTS PARTITION (month_year='2017', date='2017-01-02') LOCATION '\" + path + \"'\"\n",
    "#sql1 = \"ALTER TABLE \" + tablename + \" ADD IF NOT EXISTS PARTITION (month_year='2017')\"\n",
    "#sql1"
   ]
  },
  {
   "cell_type": "code",
   "execution_count": 29,
   "metadata": {},
   "outputs": [
    {
     "data": {
      "text/html": [
       "<div>\n",
       "<style scoped>\n",
       "    .dataframe tbody tr th:only-of-type {\n",
       "        vertical-align: middle;\n",
       "    }\n",
       "\n",
       "    .dataframe tbody tr th {\n",
       "        vertical-align: top;\n",
       "    }\n",
       "\n",
       "    .dataframe thead th {\n",
       "        text-align: right;\n",
       "    }\n",
       "</style>\n",
       "<table border=\"1\" class=\"dataframe\">\n",
       "  <thead>\n",
       "    <tr style=\"text-align: right;\">\n",
       "      <th></th>\n",
       "    </tr>\n",
       "  </thead>\n",
       "  <tbody>\n",
       "  </tbody>\n",
       "</table>\n",
       "</div>"
      ],
      "text/plain": [
       "Empty DataFrame\n",
       "Columns: []\n",
       "Index: []"
      ]
     },
     "execution_count": 29,
     "metadata": {},
     "output_type": "execute_result"
    }
   ],
   "source": [
    "#wr.athena.read_sql_query(sql = sql_string, database = dbname, ctas_approach = False) "
   ]
  },
  {
   "cell_type": "code",
   "execution_count": 30,
   "metadata": {},
   "outputs": [
    {
     "name": "stdout",
     "output_type": "stream",
     "text": [
      "Wall time: 0 ns\n"
     ]
    },
    {
     "data": {
      "text/plain": [
       "'SELECT user_id, landing_page, timestamp, grp, converted from app01_test01 WHERE week = 1'"
      ]
     },
     "execution_count": 30,
     "metadata": {},
     "output_type": "execute_result"
    }
   ],
   "source": [
    "%%time \n",
    "#sql2 = \"SELECT user_id, landing_page, timestamp, grp, date, converted from \" + tablename + \" WHERE date < CAST('2017-01-18' AS DATE) limit 10\"\n",
    "sql2 = \"SELECT user_id, landing_page, timestamp, grp, converted from \" + tablename + \" WHERE week = 1\"\n",
    "sql2"
   ]
  },
  {
   "cell_type": "code",
   "execution_count": 31,
   "metadata": {},
   "outputs": [
    {
     "data": {
      "text/html": [
       "<div>\n",
       "<style scoped>\n",
       "    .dataframe tbody tr th:only-of-type {\n",
       "        vertical-align: middle;\n",
       "    }\n",
       "\n",
       "    .dataframe tbody tr th {\n",
       "        vertical-align: top;\n",
       "    }\n",
       "\n",
       "    .dataframe thead th {\n",
       "        text-align: right;\n",
       "    }\n",
       "</style>\n",
       "<table border=\"1\" class=\"dataframe\">\n",
       "  <thead>\n",
       "    <tr style=\"text-align: right;\">\n",
       "      <th></th>\n",
       "      <th>user_id</th>\n",
       "      <th>landing_page</th>\n",
       "      <th>timestamp</th>\n",
       "      <th>grp</th>\n",
       "      <th>converted</th>\n",
       "    </tr>\n",
       "  </thead>\n",
       "  <tbody>\n",
       "    <tr>\n",
       "      <th>0</th>\n",
       "      <td>853541</td>\n",
       "      <td>new_page</td>\n",
       "      <td>2017-01-08 18:28:03.143</td>\n",
       "      <td>treatment</td>\n",
       "      <td>0</td>\n",
       "    </tr>\n",
       "    <tr>\n",
       "      <th>1</th>\n",
       "      <td>817355</td>\n",
       "      <td>new_page</td>\n",
       "      <td>2017-01-04 17:58:08.979</td>\n",
       "      <td>treatment</td>\n",
       "      <td>1</td>\n",
       "    </tr>\n",
       "    <tr>\n",
       "      <th>2</th>\n",
       "      <td>888545</td>\n",
       "      <td>new_page</td>\n",
       "      <td>2017-01-08 06:37:26.332</td>\n",
       "      <td>treatment</td>\n",
       "      <td>1</td>\n",
       "    </tr>\n",
       "    <tr>\n",
       "      <th>3</th>\n",
       "      <td>892356</td>\n",
       "      <td>new_page</td>\n",
       "      <td>2017-01-05 09:35:14.904</td>\n",
       "      <td>treatment</td>\n",
       "      <td>1</td>\n",
       "    </tr>\n",
       "    <tr>\n",
       "      <th>4</th>\n",
       "      <td>736159</td>\n",
       "      <td>new_page</td>\n",
       "      <td>2017-01-06 01:50:21.318</td>\n",
       "      <td>treatment</td>\n",
       "      <td>0</td>\n",
       "    </tr>\n",
       "    <tr>\n",
       "      <th>...</th>\n",
       "      <td>...</td>\n",
       "      <td>...</td>\n",
       "      <td>...</td>\n",
       "      <td>...</td>\n",
       "      <td>...</td>\n",
       "    </tr>\n",
       "    <tr>\n",
       "      <th>86053</th>\n",
       "      <td>769333</td>\n",
       "      <td>old_page</td>\n",
       "      <td>2017-01-04 20:47:53.297</td>\n",
       "      <td>control</td>\n",
       "      <td>0</td>\n",
       "    </tr>\n",
       "    <tr>\n",
       "      <th>86054</th>\n",
       "      <td>769858</td>\n",
       "      <td>new_page</td>\n",
       "      <td>2017-01-04 05:01:31.140</td>\n",
       "      <td>treatment</td>\n",
       "      <td>0</td>\n",
       "    </tr>\n",
       "    <tr>\n",
       "      <th>86055</th>\n",
       "      <td>870042</td>\n",
       "      <td>new_page</td>\n",
       "      <td>2017-01-02 21:06:59.518</td>\n",
       "      <td>treatment</td>\n",
       "      <td>0</td>\n",
       "    </tr>\n",
       "    <tr>\n",
       "      <th>86056</th>\n",
       "      <td>714517</td>\n",
       "      <td>new_page</td>\n",
       "      <td>2017-01-02 23:37:57.926</td>\n",
       "      <td>treatment</td>\n",
       "      <td>0</td>\n",
       "    </tr>\n",
       "    <tr>\n",
       "      <th>86057</th>\n",
       "      <td>875396</td>\n",
       "      <td>new_page</td>\n",
       "      <td>2017-01-02 22:47:01.862</td>\n",
       "      <td>treatment</td>\n",
       "      <td>0</td>\n",
       "    </tr>\n",
       "  </tbody>\n",
       "</table>\n",
       "<p>86058 rows × 5 columns</p>\n",
       "</div>"
      ],
      "text/plain": [
       "       user_id landing_page               timestamp        grp  converted\n",
       "0       853541     new_page 2017-01-08 18:28:03.143  treatment          0\n",
       "1       817355     new_page 2017-01-04 17:58:08.979  treatment          1\n",
       "2       888545     new_page 2017-01-08 06:37:26.332  treatment          1\n",
       "3       892356     new_page 2017-01-05 09:35:14.904  treatment          1\n",
       "4       736159     new_page 2017-01-06 01:50:21.318  treatment          0\n",
       "...        ...          ...                     ...        ...        ...\n",
       "86053   769333     old_page 2017-01-04 20:47:53.297    control          0\n",
       "86054   769858     new_page 2017-01-04 05:01:31.140  treatment          0\n",
       "86055   870042     new_page 2017-01-02 21:06:59.518  treatment          0\n",
       "86056   714517     new_page 2017-01-02 23:37:57.926  treatment          0\n",
       "86057   875396     new_page 2017-01-02 22:47:01.862  treatment          0\n",
       "\n",
       "[86058 rows x 5 columns]"
      ]
     },
     "execution_count": 31,
     "metadata": {},
     "output_type": "execute_result"
    }
   ],
   "source": [
    "#wr.athena.read_sql_query(sql = sql2, database = dbname, ctas_approach = False) "
   ]
  },
  {
   "cell_type": "markdown",
   "metadata": {},
   "source": [
    "## Analysis of A/B test data"
   ]
  },
  {
   "cell_type": "code",
   "execution_count": 32,
   "metadata": {},
   "outputs": [],
   "source": [
    "sql3 = \"SELECT user_id, landing_page, timestamp, grp, converted from \" + tablename \n",
    "df = wr.athena.read_sql_query(sql = sql3, database = dbname, ctas_approach = False) "
   ]
  },
  {
   "cell_type": "markdown",
   "metadata": {},
   "source": [
    "### Data Exploration"
   ]
  },
  {
   "cell_type": "code",
   "execution_count": 33,
   "metadata": {},
   "outputs": [
    {
     "data": {
      "text/plain": [
       "290584"
      ]
     },
     "execution_count": 33,
     "metadata": {},
     "output_type": "execute_result"
    }
   ],
   "source": [
    "df['user_id'].nunique()\n"
   ]
  },
  {
   "cell_type": "code",
   "execution_count": 34,
   "metadata": {},
   "outputs": [
    {
     "data": {
      "text/plain": [
       "0.11965919355605512"
      ]
     },
     "execution_count": 34,
     "metadata": {},
     "output_type": "execute_result"
    }
   ],
   "source": [
    "df['converted'].mean()"
   ]
  },
  {
   "cell_type": "code",
   "execution_count": 35,
   "metadata": {},
   "outputs": [
    {
     "data": {
      "text/plain": [
       "3893"
      ]
     },
     "execution_count": 35,
     "metadata": {},
     "output_type": "execute_result"
    }
   ],
   "source": [
    "# data cleaning for obvious testing errors records that happened earlier\n",
    "# the control group by definition is only allowed to see the old page and vice versa\n",
    "\n",
    "df.query(\"(grp == 'control' and landing_page == 'new_page') or (grp == 'treatment' and landing_page == 'old_page')\").shape[0]"
   ]
  },
  {
   "cell_type": "code",
   "execution_count": 36,
   "metadata": {},
   "outputs": [
    {
     "data": {
      "text/plain": [
       "290585"
      ]
     },
     "execution_count": 36,
     "metadata": {},
     "output_type": "execute_result"
    }
   ],
   "source": [
    "df = df.query(\"(grp == 'control' and landing_page == 'old_page') or (grp == 'treatment' and landing_page == 'new_page')\") \n",
    "total = len(df)\n",
    "total"
   ]
  },
  {
   "cell_type": "code",
   "execution_count": 37,
   "metadata": {},
   "outputs": [
    {
     "name": "stdout",
     "output_type": "stream",
     "text": [
      "<IntegerArray>\n",
      "[773192]\n",
      "Length: 1, dtype: Int64\n"
     ]
    }
   ],
   "source": [
    "# check for duplicate users / by design each unique user is allowed to be counted only once in this test\n",
    "print(df[df.duplicated(['user_id'])]['user_id'].unique())\n",
    "df = df.drop_duplicates(['user_id'], keep='first')"
   ]
  },
  {
   "cell_type": "code",
   "execution_count": 38,
   "metadata": {},
   "outputs": [],
   "source": [
    "nold, nnew = df.groupby(['grp'])['converted'].sum()"
   ]
  },
  {
   "cell_type": "code",
   "execution_count": 39,
   "metadata": {},
   "outputs": [],
   "source": [
    "pold, pnew = df.groupby(['grp'])['converted'].mean()"
   ]
  },
  {
   "cell_type": "code",
   "execution_count": 40,
   "metadata": {},
   "outputs": [
    {
     "data": {
      "text/plain": [
       "converted  grp      \n",
       "0          control      127785\n",
       "           treatment    128046\n",
       "1          control       17489\n",
       "           treatment     17264\n",
       "Name: landing_page, dtype: int64"
      ]
     },
     "execution_count": 40,
     "metadata": {},
     "output_type": "execute_result"
    }
   ],
   "source": [
    "count = df.groupby(['converted', 'grp'])['landing_page'].count()\n",
    "count"
   ]
  },
  {
   "cell_type": "code",
   "execution_count": 41,
   "metadata": {},
   "outputs": [
    {
     "data": {
      "text/plain": [
       "converted\n",
       "0    255831\n",
       "1     34753\n",
       "Name: landing_page, dtype: int64"
      ]
     },
     "execution_count": 41,
     "metadata": {},
     "output_type": "execute_result"
    }
   ],
   "source": [
    "grp_total = df.groupby('converted')['landing_page'].count()\n",
    "grp_total"
   ]
  },
  {
   "cell_type": "code",
   "execution_count": 42,
   "metadata": {},
   "outputs": [
    {
     "data": {
      "text/plain": [
       "converted  grp      \n",
       "0          control      0.499490\n",
       "           treatment    0.500510\n",
       "1          control      0.503237\n",
       "           treatment    0.496763\n",
       "Name: landing_page, dtype: float64"
      ]
     },
     "execution_count": 42,
     "metadata": {},
     "output_type": "execute_result"
    }
   ],
   "source": [
    "count / grp_total"
   ]
  },
  {
   "cell_type": "markdown",
   "metadata": {},
   "source": [
    "Sampling new visits"
   ]
  },
  {
   "cell_type": "code",
   "execution_count": 50,
   "metadata": {},
   "outputs": [],
   "source": [
    "p_diffs = []\n",
    "for _ in range(10000):\n",
    "    new_page_converted = np.random.binomial(nnew,pnew)\n",
    "    old_page_converted = np.random.binomial(nold, pold)\n",
    "    diff = new_converted/nnew - old_page_converted/nold\n",
    "    p_diffs.append(diff)"
   ]
  },
  {
   "cell_type": "markdown",
   "metadata": {},
   "source": [
    "i. Plot a histogram of the **p_diffs**.  Does this plot look like what you expected?  Use the matching problem in the classroom to assure you fully understand what was computed here."
   ]
  },
  {
   "cell_type": "code",
   "execution_count": 52,
   "metadata": {
    "scrolled": true
   },
   "outputs": [
    {
     "data": {
      "text/plain": [
       "(array([   6.,  100.,  576., 1972., 3088., 2767., 1206.,  250.,   29.,\n",
       "           6.]),\n",
       " array([-0.00826311, -0.00615893, -0.00405476, -0.00195058,  0.0001536 ,\n",
       "         0.00225778,  0.00436196,  0.00646614,  0.00857032,  0.0106745 ,\n",
       "         0.01277868]),\n",
       " <a list of 10 Patch objects>)"
      ]
     },
     "execution_count": 52,
     "metadata": {},
     "output_type": "execute_result"
    },
    {
     "data": {
      "image/png": "[encoded data removed]",
      "text/plain": [
       "<Figure size 432x288 with 1 Axes>"
      ]
     },
     "metadata": {},
     "output_type": "display_data"
    }
   ],
   "source": [
    "import seaborn as sns\n",
    "sns.set_style(\"darkgrid\")\n",
    "plt.figure(facecolor='w')\n",
    "plt.hist(p_diffs)"
   ]
  },
  {
   "cell_type": "markdown",
   "metadata": {},
   "source": [
    "discontinued for now due to minor AWS cloud cost shock at the billing cycle 🙈"
   ]
  }
 ],
 "metadata": {
  "celltoolbar": "Tags",
  "kernelspec": {
   "display_name": "Python 3 (ipykernel)",
   "language": "python",
   "name": "python3"
  },
  "language_info": {
   "codemirror_mode": {
    "name": "ipython",
    "version": 3
   },
   "file_extension": ".py",
   "mimetype": "text/x-python",
   "name": "python",
   "nbconvert_exporter": "python",
   "pygments_lexer": "ipython3",
   "version": "3.8.12"
  }
 },
 "nbformat": 4,
 "nbformat_minor": 4
}
